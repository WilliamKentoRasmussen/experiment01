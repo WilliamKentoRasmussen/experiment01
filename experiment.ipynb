{
 "cells": [
  {
   "cell_type": "code",
   "execution_count": 1,
   "id": "ace20098",
   "metadata": {},
   "outputs": [
    {
     "name": "stdout",
     "output_type": "stream",
     "text": [
      "Sequence of letters: ['G', 'U', 'N', 'J', 'V', 'Q', 'T', 'L', 'F', 'R', 'X', 'E', 'C', 'K', 'M']\n"
     ]
    }
   ],
   "source": [
    "import random\n",
    "import string\n",
    "import tkinter as tk\n",
    "\n",
    "# Step 1: Randomly select 15 unique letters from the alphabet\n",
    "letters = random.sample(string.ascii_uppercase, 15)\n",
    "\n",
    "# Step 2: Create a Tkinter window\n",
    "root = tk.Tk()\n",
    "root.title(\"Memory Experiment\")\n",
    "root.geometry(\"400x300\")\n",
    "\n",
    "label = tk.Label(root, text=\"\", font=(\"Helvetica\", 120))\n",
    "label.pack(expand=True)\n",
    "\n",
    "# Function to show letters one by one\n",
    "index = 0\n",
    "def show_next_letter():\n",
    "    global index\n",
    "    if index < len(letters):\n",
    "        label.config(text=letters[index])\n",
    "        index += 1\n",
    "        root.after(1000, show_next_letter)  # call again after 1 second\n",
    "    else:\n",
    "        root.destroy()  # close window after showing all letters\n",
    "\n",
    "# Start the display\n",
    "show_next_letter()\n",
    "root.mainloop()\n",
    "\n",
    "# Step 3: Print the full sequence afterwards\n",
    "print(\"Sequence of letters:\", letters)\n"
   ]
  }
 ],
 "metadata": {
  "kernelspec": {
   "display_name": "base",
   "language": "python",
   "name": "python3"
  },
  "language_info": {
   "codemirror_mode": {
    "name": "ipython",
    "version": 3
   },
   "file_extension": ".py",
   "mimetype": "text/x-python",
   "name": "python",
   "nbconvert_exporter": "python",
   "pygments_lexer": "ipython3",
   "version": "3.11.10"
  }
 },
 "nbformat": 4,
 "nbformat_minor": 5
}
