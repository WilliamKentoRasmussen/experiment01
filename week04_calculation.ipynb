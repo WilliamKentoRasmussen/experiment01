{
 "cells": [
  {
   "cell_type": "code",
   "execution_count": null,
   "id": "c610f88c",
   "metadata": {},
   "outputs": [],
   "source": [
    "from scipy.stats import norm\n",
    "likelihood_w_given_R_M = norm.cdf(540, loc=580, scale=20)- norm.cdf(550, loc=580, scale=20)\n",
    "likelihood_w_given_U_M = norm.cdf(540, loc=520, scale=20)- norm.cdf(550, loc=520, scale=20)\n",
    "likelihood_w_given_R_C = norm.cdf(540, loc=400, scale=100)- norm.cdf(550, loc=400, scale=100)\n",
    "likelihood_w_given_U_C = norm.cdf(540, loc=550, scale=100)- norm.cdf(550, loc=550, scale=100)\n",
    "likelihood_w_given_R_J = norm.cdf(540, loc=600, scale=50)- norm.cdf(550, loc=600, scale=50)\n",
    "likelihood_w_given_U_J = norm.cdf(540, loc=500, scale=50)- norm.cdf(550, loc=500, scale=50)\n",
    "\n",
    "p_J = 0.1\n",
    "p_M = 0.5\n",
    "p_C = 0.4\n",
    "\n",
    "likelihood_R_M = 0.8\n",
    "likelihood_R_C = 0.1\n",
    "likelihood_R_J = 0.15\n",
    "\n"
   ]
  }
 ],
 "metadata": {
  "kernelspec": {
   "display_name": "base",
   "language": "python",
   "name": "python3"
  },
  "language_info": {
   "codemirror_mode": {
    "name": "ipython",
    "version": 3
   },
   "file_extension": ".py",
   "mimetype": "text/x-python",
   "name": "python",
   "nbconvert_exporter": "python",
   "pygments_lexer": "ipython3",
   "version": "3.11.9"
  }
 },
 "nbformat": 4,
 "nbformat_minor": 5
}
